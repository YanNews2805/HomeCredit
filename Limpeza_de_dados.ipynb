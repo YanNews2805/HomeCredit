{
  "nbformat": 4,
  "nbformat_minor": 0,
  "metadata": {
    "colab": {
      "name": "Limpeza de dados.ipynb",
      "provenance": [],
      "collapsed_sections": [],
      "authorship_tag": "ABX9TyPu3+L0u0BOo5u/BpPXbNk7",
      "include_colab_link": true
    },
    "kernelspec": {
      "name": "python3",
      "display_name": "Python 3"
    },
    "language_info": {
      "name": "python"
    }
  },
  "cells": [
    {
      "cell_type": "markdown",
      "metadata": {
        "id": "view-in-github",
        "colab_type": "text"
      },
      "source": [
        "<a href=\"https://colab.research.google.com/github/YanNews2805/HomeCredit/blob/main/Limpeza_de_dados.ipynb\" target=\"_parent\"><img src=\"https://colab.research.google.com/assets/colab-badge.svg\" alt=\"Open In Colab\"/></a>"
      ]
    },
    {
      "cell_type": "markdown",
      "metadata": {
        "id": "SvgoFMiMeEp9"
      },
      "source": [
        "#Importando bibliotecas"
      ]
    },
    {
      "cell_type": "code",
      "metadata": {
        "id": "RqBDiiiOrn4Y",
        "colab": {
          "base_uri": "https://localhost:8080/"
        },
        "outputId": "dfd9a39c-829f-4bbb-ff52-595ba29fdb94"
      },
      "source": [
        "import numpy as np\n",
        "import matplotlib.pyplot as plt\n",
        "import pandas as pd\n",
        "import seaborn as sns\n",
        "from sklearn.compose import ColumnTransformer\n",
        "from sklearn.preprocessing import OneHotEncoder\n",
        "from sklearn.impute import SimpleImputer\n",
        "from sklearn import preprocessing\n",
        "import csv\n",
        "from sklearn.model_selection import train_test_split\n",
        "from sklearn.ensemble import RandomForestRegressor\n",
        "from sklearn.metrics import mean_squared_error\n",
        "%pylab inline\n",
        "dataset = pd.read_csv('application_train.csv')"
      ],
      "execution_count": 25,
      "outputs": [
        {
          "output_type": "stream",
          "name": "stdout",
          "text": [
            "Populating the interactive namespace from numpy and matplotlib\n"
          ]
        }
      ]
    },
    {
      "cell_type": "markdown",
      "metadata": {
        "id": "wXWG416ZsbnV"
      },
      "source": [
        "#Extraíndo informações do dataset"
      ]
    },
    {
      "cell_type": "code",
      "metadata": {
        "id": "xIkYB_rjz5xV",
        "colab": {
          "base_uri": "https://localhost:8080/"
        },
        "outputId": "0fce4d9a-ae9f-4946-b06a-10ade24094ac"
      },
      "source": [
        "dataset.info()"
      ],
      "execution_count": 26,
      "outputs": [
        {
          "output_type": "stream",
          "name": "stdout",
          "text": [
            "<class 'pandas.core.frame.DataFrame'>\n",
            "RangeIndex: 307511 entries, 0 to 307510\n",
            "Columns: 122 entries, SK_ID_CURR to AMT_REQ_CREDIT_BUREAU_YEAR\n",
            "dtypes: float64(65), int64(41), object(16)\n",
            "memory usage: 286.2+ MB\n"
          ]
        }
      ]
    },
    {
      "cell_type": "markdown",
      "metadata": {
        "id": "IViiKULsVgZ2"
      },
      "source": [
        "# Variáveis com menos de 1.2% de correlação com o TARGET"
      ]
    },
    {
      "cell_type": "code",
      "metadata": {
        "id": "9-gK3K8XJGPO",
        "colab": {
          "base_uri": "https://localhost:8080/"
        },
        "outputId": "f0bb356f-6605-4230-8e19-623d18c17825"
      },
      "source": [
        "target_corr = dataset.corrwith(dataset['TARGET'], method='pearson') \n",
        "x = abs(target_corr)\n",
        "\n",
        "# 106 variáveis numéricas\n",
        "\n",
        "def media(x):\n",
        "  sum = 0\n",
        "  In = 0\n",
        "  for i in x:\n",
        "    if i != float(i):\n",
        "      continue\n",
        "    In += 1\n",
        "    sum += float(abs(i))\n",
        "  media = sum/106\n",
        "  return media\n",
        "\n",
        "\n",
        "media(x)\n",
        "print('40% da média é', 0.4 * media(x))\n",
        "\n",
        "def baixacorr(x):\n",
        "  sum = 0\n",
        "  for i in x:\n",
        "    if i < 0.40*(media(x)):\n",
        "      sum += 1\n",
        "  return sum\n",
        "\n",
        "\n",
        "print('Porcentagem retirada:',baixacorr(x)/1.06,'Serão retiradas:',baixacorr(x),'variáveis')  \n",
        "\n",
        "# 46 retiradas\n",
        "# 40% da média = 0.01327203623512337\n",
        "# média = 0.03318009058780842"
      ],
      "execution_count": 27,
      "outputs": [
        {
          "output_type": "stream",
          "name": "stdout",
          "text": [
            "40% da média é 0.013556336194610977\n",
            "Porcentagem retirada: 43.39622641509434 Serão retiradas: 46 variáveis\n"
          ]
        }
      ]
    },
    {
      "cell_type": "markdown",
      "metadata": {
        "id": "mBAXpaHFC429"
      },
      "source": [
        "#Dropando variáveis com menos de 1.3% de correlação"
      ]
    },
    {
      "cell_type": "code",
      "metadata": {
        "id": "tBNQEF89lw41"
      },
      "source": [
        "dataset = dataset.drop(columns=['SK_ID_CURR','AMT_INCOME_TOTAL','ENTRANCES_AVG','ENTRANCES_MODE','ENTRANCES_MEDI','AMT_ANNUITY','FLAG_MOBIL','FLAG_CONT_MOBILE','FLAG_EMAIL',\n",
        "                                'CNT_FAM_MEMBERS','REG_REGION_NOT_LIVE_REGION','REG_REGION_NOT_WORK_REGION','LIVE_REGION_NOT_WORK_REGION','YEARS_BEGINEXPLUATATION_AVG','LANDAREA_MEDI',\n",
        "                                'NONLIVINGAPARTMENTS_MEDI','NONLIVINGAREA_MEDI','OBS_30_CNT_SOCIAL_CIRCLE','OBS_60_CNT_SOCIAL_CIRCLE','FLAG_DOCUMENT_2','FLAG_DOCUMENT_4',\n",
        "                                'FLAG_DOCUMENT_5','FLAG_DOCUMENT_7','FLAG_DOCUMENT_8','FLAG_DOCUMENT_9','FLAG_DOCUMENT_10','FLAG_DOCUMENT_11',\n",
        "                                'FLAG_DOCUMENT_12','FLAG_DOCUMENT_13','FLAG_DOCUMENT_14','FLAG_DOCUMENT_15','FLAG_DOCUMENT_16','FLAG_DOCUMENT_17',\n",
        "                                'FLAG_DOCUMENT_18','FLAG_DOCUMENT_19','FLAG_DOCUMENT_20','FLAG_DOCUMENT_21','AMT_REQ_CREDIT_BUREAU_HOUR','AMT_REQ_CREDIT_BUREAU_DAY',\n",
        "                                'AMT_REQ_CREDIT_BUREAU_WEEK','AMT_REQ_CREDIT_BUREAU_MON','AMT_REQ_CREDIT_BUREAU_QRT','LANDAREA_AVG','NONLIVINGAPARTMENTS_AVG','NONLIVINGAREA_AVG',\n",
        "                                'YEARS_BEGINEXPLUATATION_MODE','COMMONAREA_MODE','LANDAREA_MODE','NONLIVINGAPARTMENTS_MODE','NONLIVINGAREA_MODE','YEARS_BEGINEXPLUATATION_MEDI'])\n",
        "\n"
      ],
      "execution_count": 28,
      "outputs": []
    },
    {
      "cell_type": "code",
      "metadata": {
        "id": "6JD5Eg62syPm"
      },
      "source": [
        "dataset.select_dtypes(include='object').describe()\n",
        "dataset.replace('Maternity leave','Working',inplace=True)\n",
        "dataset['NAME_FAMILY_STATUS'].value_counts()\n",
        "dataset.replace('Unknown','Single / not married',inplace=True)\n",
        "dataset['NAME_INCOME_TYPE'].value_counts()\n",
        "dataset.select_dtypes(include='object').describe()\n",
        "dataset['CODE_GENDER'].value_counts()\n",
        "dataset.replace('XNA','F',inplace=True)"
      ],
      "execution_count": 29,
      "outputs": []
    },
    {
      "cell_type": "markdown",
      "metadata": {
        "id": "gJahU-hrs7zX"
      },
      "source": [
        "#Extraíndo informações das variáveis categóricas"
      ]
    },
    {
      "cell_type": "code",
      "metadata": {
        "colab": {
          "base_uri": "https://localhost:8080/",
          "height": 208
        },
        "id": "IHve7uzgtc06",
        "outputId": "7966f2c2-1e46-4964-d483-8b98f95e9b59"
      },
      "source": [
        "dataset.select_dtypes(include='object').describe()"
      ],
      "execution_count": 30,
      "outputs": [
        {
          "output_type": "execute_result",
          "data": {
            "text/html": [
              "<div>\n",
              "<style scoped>\n",
              "    .dataframe tbody tr th:only-of-type {\n",
              "        vertical-align: middle;\n",
              "    }\n",
              "\n",
              "    .dataframe tbody tr th {\n",
              "        vertical-align: top;\n",
              "    }\n",
              "\n",
              "    .dataframe thead th {\n",
              "        text-align: right;\n",
              "    }\n",
              "</style>\n",
              "<table border=\"1\" class=\"dataframe\">\n",
              "  <thead>\n",
              "    <tr style=\"text-align: right;\">\n",
              "      <th></th>\n",
              "      <th>NAME_CONTRACT_TYPE</th>\n",
              "      <th>CODE_GENDER</th>\n",
              "      <th>FLAG_OWN_CAR</th>\n",
              "      <th>FLAG_OWN_REALTY</th>\n",
              "      <th>NAME_TYPE_SUITE</th>\n",
              "      <th>NAME_INCOME_TYPE</th>\n",
              "      <th>NAME_EDUCATION_TYPE</th>\n",
              "      <th>NAME_FAMILY_STATUS</th>\n",
              "      <th>NAME_HOUSING_TYPE</th>\n",
              "      <th>OCCUPATION_TYPE</th>\n",
              "      <th>WEEKDAY_APPR_PROCESS_START</th>\n",
              "      <th>ORGANIZATION_TYPE</th>\n",
              "      <th>FONDKAPREMONT_MODE</th>\n",
              "      <th>HOUSETYPE_MODE</th>\n",
              "      <th>WALLSMATERIAL_MODE</th>\n",
              "      <th>EMERGENCYSTATE_MODE</th>\n",
              "    </tr>\n",
              "  </thead>\n",
              "  <tbody>\n",
              "    <tr>\n",
              "      <th>count</th>\n",
              "      <td>307511</td>\n",
              "      <td>307511</td>\n",
              "      <td>307511</td>\n",
              "      <td>307511</td>\n",
              "      <td>306219</td>\n",
              "      <td>307511</td>\n",
              "      <td>307511</td>\n",
              "      <td>307511</td>\n",
              "      <td>307511</td>\n",
              "      <td>211120</td>\n",
              "      <td>307511</td>\n",
              "      <td>307511</td>\n",
              "      <td>97216</td>\n",
              "      <td>153214</td>\n",
              "      <td>151170</td>\n",
              "      <td>161756</td>\n",
              "    </tr>\n",
              "    <tr>\n",
              "      <th>unique</th>\n",
              "      <td>2</td>\n",
              "      <td>2</td>\n",
              "      <td>2</td>\n",
              "      <td>2</td>\n",
              "      <td>7</td>\n",
              "      <td>7</td>\n",
              "      <td>5</td>\n",
              "      <td>5</td>\n",
              "      <td>6</td>\n",
              "      <td>18</td>\n",
              "      <td>7</td>\n",
              "      <td>58</td>\n",
              "      <td>4</td>\n",
              "      <td>3</td>\n",
              "      <td>7</td>\n",
              "      <td>2</td>\n",
              "    </tr>\n",
              "    <tr>\n",
              "      <th>top</th>\n",
              "      <td>Cash loans</td>\n",
              "      <td>F</td>\n",
              "      <td>N</td>\n",
              "      <td>Y</td>\n",
              "      <td>Unaccompanied</td>\n",
              "      <td>Working</td>\n",
              "      <td>Secondary / secondary special</td>\n",
              "      <td>Married</td>\n",
              "      <td>House / apartment</td>\n",
              "      <td>Laborers</td>\n",
              "      <td>TUESDAY</td>\n",
              "      <td>Business Entity Type 3</td>\n",
              "      <td>reg oper account</td>\n",
              "      <td>block of flats</td>\n",
              "      <td>Panel</td>\n",
              "      <td>No</td>\n",
              "    </tr>\n",
              "    <tr>\n",
              "      <th>freq</th>\n",
              "      <td>278232</td>\n",
              "      <td>202452</td>\n",
              "      <td>202924</td>\n",
              "      <td>213312</td>\n",
              "      <td>248526</td>\n",
              "      <td>158779</td>\n",
              "      <td>218391</td>\n",
              "      <td>196432</td>\n",
              "      <td>272868</td>\n",
              "      <td>55186</td>\n",
              "      <td>53901</td>\n",
              "      <td>67992</td>\n",
              "      <td>73830</td>\n",
              "      <td>150503</td>\n",
              "      <td>66040</td>\n",
              "      <td>159428</td>\n",
              "    </tr>\n",
              "  </tbody>\n",
              "</table>\n",
              "</div>"
            ],
            "text/plain": [
              "       NAME_CONTRACT_TYPE CODE_GENDER  ... WALLSMATERIAL_MODE EMERGENCYSTATE_MODE\n",
              "count              307511      307511  ...             151170              161756\n",
              "unique                  2           2  ...                  7                   2\n",
              "top            Cash loans           F  ...              Panel                  No\n",
              "freq               278232      202452  ...              66040              159428\n",
              "\n",
              "[4 rows x 16 columns]"
            ]
          },
          "metadata": {},
          "execution_count": 30
        }
      ]
    },
    {
      "cell_type": "markdown",
      "metadata": {
        "id": "lI7ISMGjtAlZ"
      },
      "source": [
        "# Categóricas descatáveis"
      ]
    },
    {
      "cell_type": "code",
      "metadata": {
        "id": "LTAvz7xQUOQq",
        "colab": {
          "base_uri": "https://localhost:8080/",
          "height": 85
        },
        "outputId": "2d672e3f-73df-409e-86ec-5792a392f1bc"
      },
      "source": [
        "'''\n",
        "Descarte\n",
        "\n",
        "OCCUPATION_TYPE\t= (18 variáveis, Labores = 25%), (TEM 32% DOS DADOS FALTANDO)\n",
        "ORGANIZATION_TYPE\t= (58 variáveis, Business Entity Type 3\t= 20%), (TEM 66% DOS DADOS FALTANDO)\n",
        "WALLSMATERIAL_MODE\t= (7 variáveis, Panel\t= 40%), (TEM 50% DOS DADOS FALTANDO)\n",
        "WEEKDAY_APPR_PROCESS_START\t= (7 variáveis, TUESDAY = 16%)\n",
        "FONDKAPREMONT_MODE = binaria (4 variáveis, reg oper account = 70%)(68% dos dados faltando)\n",
        "'''"
      ],
      "execution_count": 31,
      "outputs": [
        {
          "output_type": "execute_result",
          "data": {
            "application/vnd.google.colaboratory.intrinsic+json": {
              "type": "string"
            },
            "text/plain": [
              "'\\nDescarte\\n\\nOCCUPATION_TYPE\\t= (18 variáveis, Labores = 25%), (TEM 32% DOS DADOS FALTANDO)\\nORGANIZATION_TYPE\\t= (58 variáveis, Business Entity Type 3\\t= 20%), (TEM 66% DOS DADOS FALTANDO)\\nWALLSMATERIAL_MODE\\t= (7 variáveis, Panel\\t= 40%), (TEM 50% DOS DADOS FALTANDO)\\nWEEKDAY_APPR_PROCESS_START\\t= (7 variáveis, TUESDAY = 16%)\\nFONDKAPREMONT_MODE = binaria (4 variáveis, reg oper account = 70%)(68% dos dados faltando)\\n'"
            ]
          },
          "metadata": {},
          "execution_count": 31
        }
      ]
    },
    {
      "cell_type": "markdown",
      "metadata": {
        "id": "ksNMygR9iSWb"
      },
      "source": [
        "#Dropando variáveis categóricas dispensáveis ao modelo"
      ]
    },
    {
      "cell_type": "code",
      "metadata": {
        "id": "dyU75m0lhzpX"
      },
      "source": [
        "dataset = dataset.drop(columns=['ORGANIZATION_TYPE','WALLSMATERIAL_MODE','WEEKDAY_APPR_PROCESS_START','FONDKAPREMONT_MODE'])\n"
      ],
      "execution_count": 32,
      "outputs": []
    },
    {
      "cell_type": "code",
      "metadata": {
        "id": "CcsK8aiMnvDu"
      },
      "source": [
        "dx = dataset.drop(columns=['NAME_CONTRACT_TYPE','OCCUPATION_TYPE','CODE_GENDER','FLAG_OWN_CAR',\n",
        "                                            'FLAG_OWN_REALTY','NAME_TYPE_SUITE','NAME_INCOME_TYPE',\n",
        "                                            'NAME_EDUCATION_TYPE','NAME_FAMILY_STATUS','NAME_HOUSING_TYPE',\n",
        "                                            'HOUSETYPE_MODE','EMERGENCYSTATE_MODE'] )\n"
      ],
      "execution_count": 35,
      "outputs": []
    },
    {
      "cell_type": "markdown",
      "metadata": {
        "id": "G_76UhBhpyWB"
      },
      "source": [
        "#Mapa de calor de correlação"
      ]
    },
    {
      "cell_type": "code",
      "metadata": {
        "id": "2Whbc0s0nZah"
      },
      "source": [
        "target_corr = dx.corrwith(dx['TARGET'], method='pearson') \n",
        "x = abs(target_corr)\n",
        "j = []\n",
        "\n",
        "for i in dx:\n",
        "  j.append(i)\n",
        "df = pd.DataFrame({'index': j,\n",
        "                   'Correlação': x})\n",
        "df = df.set_index('index')\n",
        "df = df.sort_values('Correlação')"
      ],
      "execution_count": 36,
      "outputs": []
    },
    {
      "cell_type": "code",
      "metadata": {
        "colab": {
          "base_uri": "https://localhost:8080/",
          "height": 501
        },
        "id": "g4M1TPZrnaH-",
        "outputId": "4e4c3b45-d624-44df-e762-177f7ee8c951"
      },
      "source": [
        "from matplotlib import rcParams\n",
        "rcParams['figure.figsize'] = 11.7,8.27\n",
        "sns.heatmap(df)\n",
        "plt.savefig('correlação.png')"
      ],
      "execution_count": 37,
      "outputs": [
        {
          "output_type": "display_data",
          "data": {
            "image/png": "[encoded data removed]",
            "text/plain": [
              "<Figure size 842.4x595.44 with 2 Axes>"
            ]
          },
          "metadata": {
            "needs_background": "light"
          }
        }
      ]
    },
    {
      "cell_type": "markdown",
      "metadata": {
        "id": "hFGhFFjXeXCq"
      },
      "source": [
        "#Avaliando gráfico de valores nulos"
      ]
    },
    {
      "cell_type": "code",
      "metadata": {
        "colab": {
          "base_uri": "https://localhost:8080/",
          "height": 509
        },
        "id": "kxo6L5O3V4hA",
        "outputId": "e83a541f-62b9-42cb-b2ab-d041f1695252"
      },
      "source": [
        "missing = pd.DataFrame( (dataset.isnull().sum()) * 100 / dataset.shape[0]).reset_index()\n",
        "\n",
        "plt.figure(figsize = (16,5))\n",
        "ax = sns.pointplot('index', 0, data = missing)\n",
        "\n",
        "plt.xticks(rotation = 90, fontsize = 7)\n",
        "\n",
        "plt.title(\"Percentage of Missing values\")\n",
        "\n",
        "plt.ylabel(\"PERCENTAGE\")\n",
        "\n",
        "plt.show()"
      ],
      "execution_count": 38,
      "outputs": [
        {
          "output_type": "stream",
          "name": "stderr",
          "text": [
            "/usr/local/lib/python3.7/dist-packages/seaborn/_decorators.py:43: FutureWarning: Pass the following variables as keyword args: x, y. From version 0.12, the only valid positional argument will be `data`, and passing other arguments without an explicit keyword will result in an error or misinterpretation.\n",
            "  FutureWarning\n"
          ]
        },
        {
          "output_type": "display_data",
          "data": {
            "image/png": "[encoded data removed]",
            "text/plain": [
              "<Figure size 1152x360 with 1 Axes>"
            ]
          },
          "metadata": {
            "needs_background": "light"
          }
        }
      ]
    },
    {
      "cell_type": "markdown",
      "metadata": {
        "id": "yQj8tmwVeuOK"
      },
      "source": [
        "#Preenchendo valores vazios nas variáveis categóricas"
      ]
    },
    {
      "cell_type": "code",
      "metadata": {
        "id": "pa_DY1gc4adV"
      },
      "source": [
        "# Método = variável mais frequente\n",
        "\n",
        "dataset = dataset.fillna({\n",
        "    'OCCUPATION_TYPE':'Laborers',\n",
        "    'NAME_TYPE_SUITE':'Unaccompanied',\n",
        "    'HOUSETYPE_MODE':'block of flats',\n",
        "    'EMERGENCYSTATE_MODE':'No'})"
      ],
      "execution_count": 39,
      "outputs": []
    },
    {
      "cell_type": "code",
      "metadata": {
        "colab": {
          "base_uri": "https://localhost:8080/",
          "height": 314
        },
        "id": "erTn8r1fObma",
        "outputId": "034d7282-c810-48dc-a1d0-ae458d42baf7"
      },
      "source": [
        "dataset.select_dtypes(include='number').describe() #50% = mediana"
      ],
      "execution_count": 40,
      "outputs": [
        {
          "output_type": "execute_result",
          "data": {
            "text/html": [
              "<div>\n",
              "<style scoped>\n",
              "    .dataframe tbody tr th:only-of-type {\n",
              "        vertical-align: middle;\n",
              "    }\n",
              "\n",
              "    .dataframe tbody tr th {\n",
              "        vertical-align: top;\n",
              "    }\n",
              "\n",
              "    .dataframe thead th {\n",
              "        text-align: right;\n",
              "    }\n",
              "</style>\n",
              "<table border=\"1\" class=\"dataframe\">\n",
              "  <thead>\n",
              "    <tr style=\"text-align: right;\">\n",
              "      <th></th>\n",
              "      <th>TARGET</th>\n",
              "      <th>CNT_CHILDREN</th>\n",
              "      <th>AMT_CREDIT</th>\n",
              "      <th>AMT_GOODS_PRICE</th>\n",
              "      <th>REGION_POPULATION_RELATIVE</th>\n",
              "      <th>DAYS_BIRTH</th>\n",
              "      <th>DAYS_EMPLOYED</th>\n",
              "      <th>DAYS_REGISTRATION</th>\n",
              "      <th>DAYS_ID_PUBLISH</th>\n",
              "      <th>OWN_CAR_AGE</th>\n",
              "      <th>FLAG_EMP_PHONE</th>\n",
              "      <th>FLAG_WORK_PHONE</th>\n",
              "      <th>FLAG_PHONE</th>\n",
              "      <th>REGION_RATING_CLIENT</th>\n",
              "      <th>REGION_RATING_CLIENT_W_CITY</th>\n",
              "      <th>HOUR_APPR_PROCESS_START</th>\n",
              "      <th>REG_CITY_NOT_LIVE_CITY</th>\n",
              "      <th>REG_CITY_NOT_WORK_CITY</th>\n",
              "      <th>LIVE_CITY_NOT_WORK_CITY</th>\n",
              "      <th>EXT_SOURCE_1</th>\n",
              "      <th>EXT_SOURCE_2</th>\n",
              "      <th>EXT_SOURCE_3</th>\n",
              "      <th>APARTMENTS_AVG</th>\n",
              "      <th>BASEMENTAREA_AVG</th>\n",
              "      <th>YEARS_BUILD_AVG</th>\n",
              "      <th>COMMONAREA_AVG</th>\n",
              "      <th>ELEVATORS_AVG</th>\n",
              "      <th>FLOORSMAX_AVG</th>\n",
              "      <th>FLOORSMIN_AVG</th>\n",
              "      <th>LIVINGAPARTMENTS_AVG</th>\n",
              "      <th>LIVINGAREA_AVG</th>\n",
              "      <th>APARTMENTS_MODE</th>\n",
              "      <th>BASEMENTAREA_MODE</th>\n",
              "      <th>YEARS_BUILD_MODE</th>\n",
              "      <th>ELEVATORS_MODE</th>\n",
              "      <th>FLOORSMAX_MODE</th>\n",
              "      <th>FLOORSMIN_MODE</th>\n",
              "      <th>LIVINGAPARTMENTS_MODE</th>\n",
              "      <th>LIVINGAREA_MODE</th>\n",
              "      <th>APARTMENTS_MEDI</th>\n",
              "      <th>BASEMENTAREA_MEDI</th>\n",
              "      <th>YEARS_BUILD_MEDI</th>\n",
              "      <th>COMMONAREA_MEDI</th>\n",
              "      <th>ELEVATORS_MEDI</th>\n",
              "      <th>FLOORSMAX_MEDI</th>\n",
              "      <th>FLOORSMIN_MEDI</th>\n",
              "      <th>LIVINGAPARTMENTS_MEDI</th>\n",
              "      <th>LIVINGAREA_MEDI</th>\n",
              "      <th>TOTALAREA_MODE</th>\n",
              "      <th>DEF_30_CNT_SOCIAL_CIRCLE</th>\n",
              "      <th>DEF_60_CNT_SOCIAL_CIRCLE</th>\n",
              "      <th>DAYS_LAST_PHONE_CHANGE</th>\n",
              "      <th>FLAG_DOCUMENT_3</th>\n",
              "      <th>FLAG_DOCUMENT_6</th>\n",
              "      <th>AMT_REQ_CREDIT_BUREAU_YEAR</th>\n",
              "    </tr>\n",
              "  </thead>\n",
              "  <tbody>\n",
              "    <tr>\n",
              "      <th>count</th>\n",
              "      <td>307511.000000</td>\n",
              "      <td>307511.000000</td>\n",
              "      <td>3.075110e+05</td>\n",
              "      <td>3.072330e+05</td>\n",
              "      <td>307511.000000</td>\n",
              "      <td>307511.000000</td>\n",
              "      <td>307511.000000</td>\n",
              "      <td>307511.000000</td>\n",
              "      <td>307511.000000</td>\n",
              "      <td>104582.000000</td>\n",
              "      <td>307511.000000</td>\n",
              "      <td>307511.000000</td>\n",
              "      <td>307511.000000</td>\n",
              "      <td>307511.000000</td>\n",
              "      <td>307511.000000</td>\n",
              "      <td>307511.000000</td>\n",
              "      <td>307511.000000</td>\n",
              "      <td>307511.000000</td>\n",
              "      <td>307511.000000</td>\n",
              "      <td>134133.000000</td>\n",
              "      <td>3.068510e+05</td>\n",
              "      <td>246546.000000</td>\n",
              "      <td>151450.00000</td>\n",
              "      <td>127568.000000</td>\n",
              "      <td>103023.000000</td>\n",
              "      <td>92646.000000</td>\n",
              "      <td>143620.000000</td>\n",
              "      <td>154491.000000</td>\n",
              "      <td>98869.000000</td>\n",
              "      <td>97312.000000</td>\n",
              "      <td>153161.000000</td>\n",
              "      <td>151450.000000</td>\n",
              "      <td>127568.000000</td>\n",
              "      <td>103023.000000</td>\n",
              "      <td>143620.000000</td>\n",
              "      <td>154491.000000</td>\n",
              "      <td>98869.000000</td>\n",
              "      <td>97312.000000</td>\n",
              "      <td>153161.000000</td>\n",
              "      <td>151450.000000</td>\n",
              "      <td>127568.000000</td>\n",
              "      <td>103023.000000</td>\n",
              "      <td>92646.000000</td>\n",
              "      <td>143620.000000</td>\n",
              "      <td>154491.000000</td>\n",
              "      <td>98869.000000</td>\n",
              "      <td>97312.000000</td>\n",
              "      <td>153161.000000</td>\n",
              "      <td>159080.000000</td>\n",
              "      <td>306490.000000</td>\n",
              "      <td>306490.000000</td>\n",
              "      <td>307510.000000</td>\n",
              "      <td>307511.000000</td>\n",
              "      <td>307511.000000</td>\n",
              "      <td>265992.000000</td>\n",
              "    </tr>\n",
              "    <tr>\n",
              "      <th>mean</th>\n",
              "      <td>0.080729</td>\n",
              "      <td>0.417052</td>\n",
              "      <td>5.990260e+05</td>\n",
              "      <td>5.383962e+05</td>\n",
              "      <td>0.020868</td>\n",
              "      <td>-16036.995067</td>\n",
              "      <td>63815.045904</td>\n",
              "      <td>-4986.120328</td>\n",
              "      <td>-2994.202373</td>\n",
              "      <td>12.061091</td>\n",
              "      <td>0.819889</td>\n",
              "      <td>0.199368</td>\n",
              "      <td>0.281066</td>\n",
              "      <td>2.052463</td>\n",
              "      <td>2.031521</td>\n",
              "      <td>12.063419</td>\n",
              "      <td>0.078173</td>\n",
              "      <td>0.230454</td>\n",
              "      <td>0.179555</td>\n",
              "      <td>0.502130</td>\n",
              "      <td>5.143927e-01</td>\n",
              "      <td>0.510853</td>\n",
              "      <td>0.11744</td>\n",
              "      <td>0.088442</td>\n",
              "      <td>0.752471</td>\n",
              "      <td>0.044621</td>\n",
              "      <td>0.078942</td>\n",
              "      <td>0.226282</td>\n",
              "      <td>0.231894</td>\n",
              "      <td>0.100775</td>\n",
              "      <td>0.107399</td>\n",
              "      <td>0.114231</td>\n",
              "      <td>0.087543</td>\n",
              "      <td>0.759637</td>\n",
              "      <td>0.074490</td>\n",
              "      <td>0.222315</td>\n",
              "      <td>0.228058</td>\n",
              "      <td>0.105645</td>\n",
              "      <td>0.105975</td>\n",
              "      <td>0.117850</td>\n",
              "      <td>0.087955</td>\n",
              "      <td>0.755746</td>\n",
              "      <td>0.044595</td>\n",
              "      <td>0.078078</td>\n",
              "      <td>0.225897</td>\n",
              "      <td>0.231625</td>\n",
              "      <td>0.101954</td>\n",
              "      <td>0.108607</td>\n",
              "      <td>0.102547</td>\n",
              "      <td>0.143421</td>\n",
              "      <td>0.100049</td>\n",
              "      <td>-962.858788</td>\n",
              "      <td>0.710023</td>\n",
              "      <td>0.088055</td>\n",
              "      <td>1.899974</td>\n",
              "    </tr>\n",
              "    <tr>\n",
              "      <th>std</th>\n",
              "      <td>0.272419</td>\n",
              "      <td>0.722121</td>\n",
              "      <td>4.024908e+05</td>\n",
              "      <td>3.694465e+05</td>\n",
              "      <td>0.013831</td>\n",
              "      <td>4363.988632</td>\n",
              "      <td>141275.766519</td>\n",
              "      <td>3522.886321</td>\n",
              "      <td>1509.450419</td>\n",
              "      <td>11.944812</td>\n",
              "      <td>0.384280</td>\n",
              "      <td>0.399526</td>\n",
              "      <td>0.449521</td>\n",
              "      <td>0.509034</td>\n",
              "      <td>0.502737</td>\n",
              "      <td>3.265832</td>\n",
              "      <td>0.268444</td>\n",
              "      <td>0.421124</td>\n",
              "      <td>0.383817</td>\n",
              "      <td>0.211062</td>\n",
              "      <td>1.910602e-01</td>\n",
              "      <td>0.194844</td>\n",
              "      <td>0.10824</td>\n",
              "      <td>0.082438</td>\n",
              "      <td>0.113280</td>\n",
              "      <td>0.076036</td>\n",
              "      <td>0.134576</td>\n",
              "      <td>0.144641</td>\n",
              "      <td>0.161380</td>\n",
              "      <td>0.092576</td>\n",
              "      <td>0.110565</td>\n",
              "      <td>0.107936</td>\n",
              "      <td>0.084307</td>\n",
              "      <td>0.110111</td>\n",
              "      <td>0.132256</td>\n",
              "      <td>0.143709</td>\n",
              "      <td>0.161160</td>\n",
              "      <td>0.097880</td>\n",
              "      <td>0.111845</td>\n",
              "      <td>0.109076</td>\n",
              "      <td>0.082179</td>\n",
              "      <td>0.112066</td>\n",
              "      <td>0.076144</td>\n",
              "      <td>0.134467</td>\n",
              "      <td>0.145067</td>\n",
              "      <td>0.161934</td>\n",
              "      <td>0.093642</td>\n",
              "      <td>0.112260</td>\n",
              "      <td>0.107462</td>\n",
              "      <td>0.446698</td>\n",
              "      <td>0.362291</td>\n",
              "      <td>826.808487</td>\n",
              "      <td>0.453752</td>\n",
              "      <td>0.283376</td>\n",
              "      <td>1.869295</td>\n",
              "    </tr>\n",
              "    <tr>\n",
              "      <th>min</th>\n",
              "      <td>0.000000</td>\n",
              "      <td>0.000000</td>\n",
              "      <td>4.500000e+04</td>\n",
              "      <td>4.050000e+04</td>\n",
              "      <td>0.000290</td>\n",
              "      <td>-25229.000000</td>\n",
              "      <td>-17912.000000</td>\n",
              "      <td>-24672.000000</td>\n",
              "      <td>-7197.000000</td>\n",
              "      <td>0.000000</td>\n",
              "      <td>0.000000</td>\n",
              "      <td>0.000000</td>\n",
              "      <td>0.000000</td>\n",
              "      <td>1.000000</td>\n",
              "      <td>1.000000</td>\n",
              "      <td>0.000000</td>\n",
              "      <td>0.000000</td>\n",
              "      <td>0.000000</td>\n",
              "      <td>0.000000</td>\n",
              "      <td>0.014568</td>\n",
              "      <td>8.173617e-08</td>\n",
              "      <td>0.000527</td>\n",
              "      <td>0.00000</td>\n",
              "      <td>0.000000</td>\n",
              "      <td>0.000000</td>\n",
              "      <td>0.000000</td>\n",
              "      <td>0.000000</td>\n",
              "      <td>0.000000</td>\n",
              "      <td>0.000000</td>\n",
              "      <td>0.000000</td>\n",
              "      <td>0.000000</td>\n",
              "      <td>0.000000</td>\n",
              "      <td>0.000000</td>\n",
              "      <td>0.000000</td>\n",
              "      <td>0.000000</td>\n",
              "      <td>0.000000</td>\n",
              "      <td>0.000000</td>\n",
              "      <td>0.000000</td>\n",
              "      <td>0.000000</td>\n",
              "      <td>0.000000</td>\n",
              "      <td>0.000000</td>\n",
              "      <td>0.000000</td>\n",
              "      <td>0.000000</td>\n",
              "      <td>0.000000</td>\n",
              "      <td>0.000000</td>\n",
              "      <td>0.000000</td>\n",
              "      <td>0.000000</td>\n",
              "      <td>0.000000</td>\n",
              "      <td>0.000000</td>\n",
              "      <td>0.000000</td>\n",
              "      <td>0.000000</td>\n",
              "      <td>-4292.000000</td>\n",
              "      <td>0.000000</td>\n",
              "      <td>0.000000</td>\n",
              "      <td>0.000000</td>\n",
              "    </tr>\n",
              "    <tr>\n",
              "      <th>25%</th>\n",
              "      <td>0.000000</td>\n",
              "      <td>0.000000</td>\n",
              "      <td>2.700000e+05</td>\n",
              "      <td>2.385000e+05</td>\n",
              "      <td>0.010006</td>\n",
              "      <td>-19682.000000</td>\n",
              "      <td>-2760.000000</td>\n",
              "      <td>-7479.500000</td>\n",
              "      <td>-4299.000000</td>\n",
              "      <td>5.000000</td>\n",
              "      <td>1.000000</td>\n",
              "      <td>0.000000</td>\n",
              "      <td>0.000000</td>\n",
              "      <td>2.000000</td>\n",
              "      <td>2.000000</td>\n",
              "      <td>10.000000</td>\n",
              "      <td>0.000000</td>\n",
              "      <td>0.000000</td>\n",
              "      <td>0.000000</td>\n",
              "      <td>0.334007</td>\n",
              "      <td>3.924574e-01</td>\n",
              "      <td>0.370650</td>\n",
              "      <td>0.05770</td>\n",
              "      <td>0.044200</td>\n",
              "      <td>0.687200</td>\n",
              "      <td>0.007800</td>\n",
              "      <td>0.000000</td>\n",
              "      <td>0.166700</td>\n",
              "      <td>0.083300</td>\n",
              "      <td>0.050400</td>\n",
              "      <td>0.045300</td>\n",
              "      <td>0.052500</td>\n",
              "      <td>0.040700</td>\n",
              "      <td>0.699400</td>\n",
              "      <td>0.000000</td>\n",
              "      <td>0.166700</td>\n",
              "      <td>0.083300</td>\n",
              "      <td>0.054200</td>\n",
              "      <td>0.042700</td>\n",
              "      <td>0.058300</td>\n",
              "      <td>0.043700</td>\n",
              "      <td>0.691400</td>\n",
              "      <td>0.007900</td>\n",
              "      <td>0.000000</td>\n",
              "      <td>0.166700</td>\n",
              "      <td>0.083300</td>\n",
              "      <td>0.051300</td>\n",
              "      <td>0.045700</td>\n",
              "      <td>0.041200</td>\n",
              "      <td>0.000000</td>\n",
              "      <td>0.000000</td>\n",
              "      <td>-1570.000000</td>\n",
              "      <td>0.000000</td>\n",
              "      <td>0.000000</td>\n",
              "      <td>0.000000</td>\n",
              "    </tr>\n",
              "    <tr>\n",
              "      <th>50%</th>\n",
              "      <td>0.000000</td>\n",
              "      <td>0.000000</td>\n",
              "      <td>5.135310e+05</td>\n",
              "      <td>4.500000e+05</td>\n",
              "      <td>0.018850</td>\n",
              "      <td>-15750.000000</td>\n",
              "      <td>-1213.000000</td>\n",
              "      <td>-4504.000000</td>\n",
              "      <td>-3254.000000</td>\n",
              "      <td>9.000000</td>\n",
              "      <td>1.000000</td>\n",
              "      <td>0.000000</td>\n",
              "      <td>0.000000</td>\n",
              "      <td>2.000000</td>\n",
              "      <td>2.000000</td>\n",
              "      <td>12.000000</td>\n",
              "      <td>0.000000</td>\n",
              "      <td>0.000000</td>\n",
              "      <td>0.000000</td>\n",
              "      <td>0.505998</td>\n",
              "      <td>5.659614e-01</td>\n",
              "      <td>0.535276</td>\n",
              "      <td>0.08760</td>\n",
              "      <td>0.076300</td>\n",
              "      <td>0.755200</td>\n",
              "      <td>0.021100</td>\n",
              "      <td>0.000000</td>\n",
              "      <td>0.166700</td>\n",
              "      <td>0.208300</td>\n",
              "      <td>0.075600</td>\n",
              "      <td>0.074500</td>\n",
              "      <td>0.084000</td>\n",
              "      <td>0.074600</td>\n",
              "      <td>0.764800</td>\n",
              "      <td>0.000000</td>\n",
              "      <td>0.166700</td>\n",
              "      <td>0.208300</td>\n",
              "      <td>0.077100</td>\n",
              "      <td>0.073100</td>\n",
              "      <td>0.086400</td>\n",
              "      <td>0.075800</td>\n",
              "      <td>0.758500</td>\n",
              "      <td>0.020800</td>\n",
              "      <td>0.000000</td>\n",
              "      <td>0.166700</td>\n",
              "      <td>0.208300</td>\n",
              "      <td>0.076100</td>\n",
              "      <td>0.074900</td>\n",
              "      <td>0.068800</td>\n",
              "      <td>0.000000</td>\n",
              "      <td>0.000000</td>\n",
              "      <td>-757.000000</td>\n",
              "      <td>1.000000</td>\n",
              "      <td>0.000000</td>\n",
              "      <td>1.000000</td>\n",
              "    </tr>\n",
              "    <tr>\n",
              "      <th>75%</th>\n",
              "      <td>0.000000</td>\n",
              "      <td>1.000000</td>\n",
              "      <td>8.086500e+05</td>\n",
              "      <td>6.795000e+05</td>\n",
              "      <td>0.028663</td>\n",
              "      <td>-12413.000000</td>\n",
              "      <td>-289.000000</td>\n",
              "      <td>-2010.000000</td>\n",
              "      <td>-1720.000000</td>\n",
              "      <td>15.000000</td>\n",
              "      <td>1.000000</td>\n",
              "      <td>0.000000</td>\n",
              "      <td>1.000000</td>\n",
              "      <td>2.000000</td>\n",
              "      <td>2.000000</td>\n",
              "      <td>14.000000</td>\n",
              "      <td>0.000000</td>\n",
              "      <td>0.000000</td>\n",
              "      <td>0.000000</td>\n",
              "      <td>0.675053</td>\n",
              "      <td>6.636171e-01</td>\n",
              "      <td>0.669057</td>\n",
              "      <td>0.14850</td>\n",
              "      <td>0.112200</td>\n",
              "      <td>0.823200</td>\n",
              "      <td>0.051500</td>\n",
              "      <td>0.120000</td>\n",
              "      <td>0.333300</td>\n",
              "      <td>0.375000</td>\n",
              "      <td>0.121000</td>\n",
              "      <td>0.129900</td>\n",
              "      <td>0.143900</td>\n",
              "      <td>0.112400</td>\n",
              "      <td>0.823600</td>\n",
              "      <td>0.120800</td>\n",
              "      <td>0.333300</td>\n",
              "      <td>0.375000</td>\n",
              "      <td>0.131300</td>\n",
              "      <td>0.125200</td>\n",
              "      <td>0.148900</td>\n",
              "      <td>0.111600</td>\n",
              "      <td>0.825600</td>\n",
              "      <td>0.051300</td>\n",
              "      <td>0.120000</td>\n",
              "      <td>0.333300</td>\n",
              "      <td>0.375000</td>\n",
              "      <td>0.123100</td>\n",
              "      <td>0.130300</td>\n",
              "      <td>0.127600</td>\n",
              "      <td>0.000000</td>\n",
              "      <td>0.000000</td>\n",
              "      <td>-274.000000</td>\n",
              "      <td>1.000000</td>\n",
              "      <td>0.000000</td>\n",
              "      <td>3.000000</td>\n",
              "    </tr>\n",
              "    <tr>\n",
              "      <th>max</th>\n",
              "      <td>1.000000</td>\n",
              "      <td>19.000000</td>\n",
              "      <td>4.050000e+06</td>\n",
              "      <td>4.050000e+06</td>\n",
              "      <td>0.072508</td>\n",
              "      <td>-7489.000000</td>\n",
              "      <td>365243.000000</td>\n",
              "      <td>0.000000</td>\n",
              "      <td>0.000000</td>\n",
              "      <td>91.000000</td>\n",
              "      <td>1.000000</td>\n",
              "      <td>1.000000</td>\n",
              "      <td>1.000000</td>\n",
              "      <td>3.000000</td>\n",
              "      <td>3.000000</td>\n",
              "      <td>23.000000</td>\n",
              "      <td>1.000000</td>\n",
              "      <td>1.000000</td>\n",
              "      <td>1.000000</td>\n",
              "      <td>0.962693</td>\n",
              "      <td>8.549997e-01</td>\n",
              "      <td>0.896010</td>\n",
              "      <td>1.00000</td>\n",
              "      <td>1.000000</td>\n",
              "      <td>1.000000</td>\n",
              "      <td>1.000000</td>\n",
              "      <td>1.000000</td>\n",
              "      <td>1.000000</td>\n",
              "      <td>1.000000</td>\n",
              "      <td>1.000000</td>\n",
              "      <td>1.000000</td>\n",
              "      <td>1.000000</td>\n",
              "      <td>1.000000</td>\n",
              "      <td>1.000000</td>\n",
              "      <td>1.000000</td>\n",
              "      <td>1.000000</td>\n",
              "      <td>1.000000</td>\n",
              "      <td>1.000000</td>\n",
              "      <td>1.000000</td>\n",
              "      <td>1.000000</td>\n",
              "      <td>1.000000</td>\n",
              "      <td>1.000000</td>\n",
              "      <td>1.000000</td>\n",
              "      <td>1.000000</td>\n",
              "      <td>1.000000</td>\n",
              "      <td>1.000000</td>\n",
              "      <td>1.000000</td>\n",
              "      <td>1.000000</td>\n",
              "      <td>1.000000</td>\n",
              "      <td>34.000000</td>\n",
              "      <td>24.000000</td>\n",
              "      <td>0.000000</td>\n",
              "      <td>1.000000</td>\n",
              "      <td>1.000000</td>\n",
              "      <td>25.000000</td>\n",
              "    </tr>\n",
              "  </tbody>\n",
              "</table>\n",
              "</div>"
            ],
            "text/plain": [
              "              TARGET  ...  AMT_REQ_CREDIT_BUREAU_YEAR\n",
              "count  307511.000000  ...               265992.000000\n",
              "mean        0.080729  ...                    1.899974\n",
              "std         0.272419  ...                    1.869295\n",
              "min         0.000000  ...                    0.000000\n",
              "25%         0.000000  ...                    0.000000\n",
              "50%         0.000000  ...                    1.000000\n",
              "75%         0.000000  ...                    3.000000\n",
              "max         1.000000  ...                   25.000000\n",
              "\n",
              "[8 rows x 55 columns]"
            ]
          },
          "metadata": {},
          "execution_count": 40
        }
      ]
    },
    {
      "cell_type": "markdown",
      "metadata": {
        "id": "XvkWP_H_eiyl"
      },
      "source": [
        "#Preenchendo valores vazios nas variáveis numéricas"
      ]
    },
    {
      "cell_type": "code",
      "metadata": {
        "id": "T1JgWZtdLOn6"
      },
      "source": [
        "#Método = mediana\n",
        "\n",
        "dataset = dataset.fillna({\n",
        "    'YEARS_BUILD_MEDI':0.758500,            \n",
        "    'COMMONAREA_MEDI':0.020800,             \n",
        "    'ELEVATORS_MEDI':0.000000,               \n",
        "    'FLOORSMAX_MEDI':0.166700,               \n",
        "    'FLOORSMIN_MEDI':0.208300,              \n",
        "    'LIVINGAPARTMENTS_MEDI':0.076100,       \n",
        "    'LIVINGAREA_MEDI':0.074600,              \n",
        "    'TOTALAREA_MODE':0.068600,               \n",
        "    'DEF_30_CNT_SOCIAL_CIRCLE':0.000000,     \n",
        "    'DEF_60_CNT_SOCIAL_CIRCLE':0.000000,     \n",
        "    'DAYS_LAST_PHONE_CHANGE':-755.000000,       \n",
        "    'AMT_REQ_CREDIT_BUREAU_YEAR':1.000000,\n",
        "    'LIVINGAPARTMENTS_AVG':0.075100,      \n",
        "    'LIVINGAREA_AVG':0.074300,              \n",
        "    'APARTMENTS_MODE':0.084000,              \n",
        "    'BASEMENTAREA_MODE':0.074500,        \n",
        "    'YEARS_BUILD_MODE':0.764800,          \n",
        "    'ELEVATORS_MODE':0.000000,             \n",
        "    'FLOORSMAX_MODE':0.166700,\n",
        "    'FLOORSMIN_MODE':0.208300,            \n",
        "    'LIVINGAPARTMENTS_MODE':0.075300,     \n",
        "    'LIVINGAREA_MODE':0.072900,            \n",
        "    'APARTMENTS_MEDI':0.086400,             \n",
        "    'BASEMENTAREA_MEDI':0.075700,\n",
        "    'AMT_GOODS_PRICE':4.500000e+05,\n",
        "    'OWN_CAR_AGE': 9.000000,\n",
        "    'EXT_SOURCE_1':0.507710\t,                 \n",
        "    'EXT_SOURCE_2':5.663911e-01,              \n",
        "    'EXT_SOURCE_3':0.535276,               \n",
        "    'APARTMENTS_AVG':0.087600,             \n",
        "    'BASEMENTAREA_AVG':0.076200,            \n",
        "    'YEARS_BUILD_AVG':0.755200,            \n",
        "    'COMMONAREA_AVG':0.021000,              \n",
        "    'ELEVATORS_AVG':0.000000,              \n",
        "    'FLOORSMAX_AVG':0.166700,               \n",
        "    'FLOORSMIN_AVG':0.208300                          \n",
        "     })"
      ],
      "execution_count": 41,
      "outputs": []
    },
    {
      "cell_type": "markdown",
      "metadata": {
        "id": "zXASmIefh9Co"
      },
      "source": [
        "#Transformando variáveis categóricas em numéricas"
      ]
    },
    {
      "cell_type": "code",
      "metadata": {
        "id": "dqHqCWt0xJgz"
      },
      "source": [
        "dataset = pd.get_dummies(dataset, columns=['NAME_CONTRACT_TYPE','OCCUPATION_TYPE','CODE_GENDER','FLAG_OWN_CAR',\n",
        "                                            'FLAG_OWN_REALTY','NAME_TYPE_SUITE','NAME_INCOME_TYPE',\n",
        "                                            'NAME_EDUCATION_TYPE','NAME_FAMILY_STATUS','NAME_HOUSING_TYPE',\n",
        "                                            'HOUSETYPE_MODE','EMERGENCYSTATE_MODE'])           "
      ],
      "execution_count": 42,
      "outputs": []
    },
    {
      "cell_type": "markdown",
      "metadata": {
        "id": "uFSj0D_6tcUY"
      },
      "source": [
        "# Criando novo dataset com o dataset limpo"
      ]
    },
    {
      "cell_type": "code",
      "metadata": {
        "id": "6XLHCVGoJHDR"
      },
      "source": [
        "df = dataset.to_csv('dataset_regressão_full1.csv')"
      ],
      "execution_count": 43,
      "outputs": []
    }
  ]
}